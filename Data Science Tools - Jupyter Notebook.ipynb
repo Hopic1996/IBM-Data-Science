{
 "cells": [
  {
   "cell_type": "markdown",
   "id": "a7bb2f45",
   "metadata": {},
   "source": [
    "# Data Science Tools - Jupyter Notebook"
   ]
  },
  {
   "cell_type": "markdown",
   "id": "e577bb6c",
   "metadata": {},
   "source": [
    "###### This notebook is to demontrate the jupyter notebook features & functionalities\n"
   ]
  },
  {
   "cell_type": "markdown",
   "id": "40fcf8c3",
   "metadata": {},
   "source": [
    "Data Science Languages:\n",
    "- Python\n",
    "- R\n",
    "- SQL\n",
    "- Julia\n",
    "- Scala\n",
    "- Javascript\n",
    "- Java\n",
    "- C++"
   ]
  },
  {
   "cell_type": "markdown",
   "id": "f67edef2",
   "metadata": {},
   "source": [
    "Data Science Libraries:\n",
    "- keras\n",
    "- TensorFlow\n",
    "- Pandas\n",
    "- NumPy\n",
    "- Scikit-learn\n",
    "- PyTorch"
   ]
  },
  {
   "cell_type": "markdown",
   "id": "bf28014d",
   "metadata": {},
   "source": [
    "Data Science Tools:\n",
    "\n",
    "| Tool           | Description                                        |\n",
    "|----------------|----------------------------------------------------|\n",
    "| Python        | Widely used programming language for data science          |\n",
    "| RStudio        | Integrated development environment for R           |\n",
    "| Jupyter Notebook | Interactive development environment which works in browsers |\n",
    "| PyCharm        |  IDE for Python          |\n",
    "| Tableau        | Data visualization Software          |"
   ]
  },
  {
   "cell_type": "code",
   "execution_count": 1,
   "id": "87f941d8",
   "metadata": {},
   "outputs": [
    {
     "data": {
      "text/plain": [
       "(2, 3)"
      ]
     },
     "execution_count": 1,
     "metadata": {},
     "output_type": "execute_result"
    }
   ],
   "source": [
    "a = 1\n",
    "b = 2\n",
    "multiplication = a * b\n",
    "addition = a + b\n",
    "multiplication, addition"
   ]
  },
  {
   "cell_type": "code",
   "execution_count": 2,
   "id": "5ce3dcbc",
   "metadata": {},
   "outputs": [
    {
     "data": {
      "text/plain": [
       "2.0"
      ]
     },
     "execution_count": 2,
     "metadata": {},
     "output_type": "execute_result"
    }
   ],
   "source": [
    "minutes = 120\n",
    "hours = minutes / 60\n",
    "hours"
   ]
  },
  {
   "cell_type": "markdown",
   "id": "700d5fd4",
   "metadata": {},
   "source": [
    "Objectives:\n",
    "- Explore jupyter notebook features\n",
    "- Apply the concepts in practice\n",
    "- Create markdowns & small code snippets to test the features\n",
    "- Share the created notebook with GIT\n"
   ]
  },
  {
   "cell_type": "markdown",
   "id": "eb0a872c",
   "metadata": {},
   "source": [
    "### Author: Shubham Chavan"
   ]
  },
  {
   "cell_type": "code",
   "execution_count": null,
   "id": "7001a53b",
   "metadata": {},
   "outputs": [],
   "source": []
  }
 ],
 "metadata": {
  "kernelspec": {
   "display_name": "Python 3 (ipykernel)",
   "language": "python",
   "name": "python3"
  },
  "language_info": {
   "codemirror_mode": {
    "name": "ipython",
    "version": 3
   },
   "file_extension": ".py",
   "mimetype": "text/x-python",
   "name": "python",
   "nbconvert_exporter": "python",
   "pygments_lexer": "ipython3",
   "version": "3.9.7"
  }
 },
 "nbformat": 4,
 "nbformat_minor": 5
}
