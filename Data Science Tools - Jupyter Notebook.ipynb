{
 "cells": [
  {
   "cell_type": "markdown",
   "id": "327e6810",
   "metadata": {},
   "source": [
    "# Data Science Tools - Jupyter Notebook"
   ]
  },
  {
   "cell_type": "markdown",
   "id": "cc783301",
   "metadata": {},
   "source": [
    "###### This notebook is to demontrate the jupyter notebook features & functionalities\n"
   ]
  },
  {
   "cell_type": "markdown",
   "id": "ed97feef",
   "metadata": {},
   "source": [
    "Data Science Languages:\n",
    "1. Python\n",
    "2. R\n",
    "3. SQL\n",
    "4. Julia\n",
    "5. Scala\n",
    "6. Javascript\n",
    "7. Java\n",
    "8. C++"
   ]
  },
  {
   "cell_type": "markdown",
   "id": "0dca3466",
   "metadata": {},
   "source": [
    "Data Science Libraries:\n",
    "1. keras\n",
    "2. TensorFlow\n",
    "3. Pandas\n",
    "4. NumPy\n",
    "5. Scikit-learn\n",
    "6. PyTorch"
   ]
  },
  {
   "cell_type": "markdown",
   "id": "7d49d3b1",
   "metadata": {},
   "source": [
    "Data Science Tools:\n",
    "\n",
    "| Tool           | Description                                        |\n",
    "|----------------|----------------------------------------------------|\n",
    "| Python        | Widely used programming language for data science          |\n",
    "| RStudio        | Integrated development environment for R           |\n",
    "| Jupyter Notebook | Interactive development environment which works in browsers |\n",
    "| PyCharm        |  IDE for Python          |\n",
    "| Tableau        | Data visualization Software          |"
   ]
  },
  {
   "cell_type": "markdown",
   "id": "06843d53",
   "metadata": {},
   "source": [
    "### Below are few examples of arithmetic expression in python"
   ]
  },
  {
   "cell_type": "code",
   "execution_count": 4,
   "id": "ad525768",
   "metadata": {},
   "outputs": [
    {
     "data": {
      "text/plain": [
       "17"
      ]
     },
     "execution_count": 4,
     "metadata": {},
     "output_type": "execute_result"
    }
   ],
   "source": [
    "# Example of arithmetic operation\n",
    "a = 3\n",
    "b = 4\n",
    "c = 5\n",
    "operation = (a * b) + c\n",
    "operation"
   ]
  },
  {
   "cell_type": "code",
   "execution_count": 3,
   "id": "b3a527c2",
   "metadata": {},
   "outputs": [
    {
     "data": {
      "text/plain": [
       "2.0"
      ]
     },
     "execution_count": 3,
     "metadata": {},
     "output_type": "execute_result"
    }
   ],
   "source": [
    "# This code converts hours to minutes by dividing it by 60\n",
    "minutes = 120\n",
    "hours = minutes / 60\n",
    "hours"
   ]
  },
  {
   "cell_type": "markdown",
   "id": "d30d956f",
   "metadata": {},
   "source": [
    "Objectives:\n",
    "- Explore jupyter notebook features\n",
    "- Apply the concepts in practice\n",
    "- Create markdowns & small code snippets to test the features\n",
    "- Share the created notebook with GIT\n"
   ]
  },
  {
   "cell_type": "markdown",
   "id": "dd5d6591",
   "metadata": {},
   "source": [
    "## Authors\n",
    "Shubham Chavan"
   ]
  },
  {
   "cell_type": "code",
   "execution_count": null,
   "id": "373dad57",
   "metadata": {},
   "outputs": [],
   "source": []
  }
 ],
 "metadata": {
  "kernelspec": {
   "display_name": "Python 3 (ipykernel)",
   "language": "python",
   "name": "python3"
  },
  "language_info": {
   "codemirror_mode": {
    "name": "ipython",
    "version": 3
   },
   "file_extension": ".py",
   "mimetype": "text/x-python",
   "name": "python",
   "nbconvert_exporter": "python",
   "pygments_lexer": "ipython3",
   "version": "3.9.7"
  }
 },
 "nbformat": 4,
 "nbformat_minor": 5
}
